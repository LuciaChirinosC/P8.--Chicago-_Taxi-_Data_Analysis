{
 "cells": [
  {
   "cell_type": "code",
   "execution_count": 13,
   "metadata": {},
   "outputs": [],
   "source": [
    "import pandas as pd\n",
    "import numpy as np\n",
    "\n",
    "from utils import (\n",
    "    execute_query,\n",
    "    create_table_from_df,\n",
    "    read_sql_file,\n",
    "    read_json_file\n",
    ")"
   ]
  },
  {
   "cell_type": "markdown",
   "metadata": {},
   "source": [
    "# Leer credenciales"
   ]
  },
  {
   "cell_type": "code",
   "execution_count": null,
   "metadata": {},
   "outputs": [],
   "source": [
    "# credenciales = {\n",
    "#     'host' : \"localhost\",\n",
    "#     'dbname' : \"dvdrental\",\n",
    "#     'user' : \"postgres\",\n",
    "#     'password' : \"\",\n",
    "#     'port' : \"5432\"\n",
    "# }\n",
    "\n",
    "credenciales = read_json_file(\"credentials.json\")"
   ]
  },
  {
   "cell_type": "markdown",
   "metadata": {},
   "source": [
    "# Queries"
   ]
  },
  {
   "cell_type": "code",
   "execution_count": 11,
   "metadata": {},
   "outputs": [],
   "source": [
    "query = \"SELECT * FROM film;\"\n",
    "df_resultado = execute_query(query, credenciales)"
   ]
  },
  {
   "cell_type": "code",
   "execution_count": 12,
   "metadata": {},
   "outputs": [],
   "source": [
    "sql_query = read_sql_file(\"queries/ejemplo1.sql\")\n",
    "df_resultado_2 = execute_query(sql_query, credenciales)"
   ]
  },
  {
   "cell_type": "markdown",
   "metadata": {},
   "source": [
    "# Crear tablas"
   ]
  },
  {
   "cell_type": "markdown",
   "metadata": {},
   "source": [
    "## Generar datos de prueba"
   ]
  },
  {
   "cell_type": "code",
   "execution_count": 17,
   "metadata": {},
   "outputs": [
    {
     "data": {
      "text/html": [
       "<div>\n",
       "<style scoped>\n",
       "    .dataframe tbody tr th:only-of-type {\n",
       "        vertical-align: middle;\n",
       "    }\n",
       "\n",
       "    .dataframe tbody tr th {\n",
       "        vertical-align: top;\n",
       "    }\n",
       "\n",
       "    .dataframe thead th {\n",
       "        text-align: right;\n",
       "    }\n",
       "</style>\n",
       "<table border=\"1\" class=\"dataframe\">\n",
       "  <thead>\n",
       "    <tr style=\"text-align: right;\">\n",
       "      <th></th>\n",
       "      <th>sale_id</th>\n",
       "      <th>customer_id</th>\n",
       "      <th>category</th>\n",
       "      <th>amount</th>\n",
       "      <th>sale_date</th>\n",
       "    </tr>\n",
       "  </thead>\n",
       "  <tbody>\n",
       "    <tr>\n",
       "      <th>0</th>\n",
       "      <td>1</td>\n",
       "      <td>106</td>\n",
       "      <td>Home</td>\n",
       "      <td>229</td>\n",
       "      <td>2024-01-01</td>\n",
       "    </tr>\n",
       "    <tr>\n",
       "      <th>1</th>\n",
       "      <td>2</td>\n",
       "      <td>103</td>\n",
       "      <td>Clothes</td>\n",
       "      <td>575</td>\n",
       "      <td>2024-01-02</td>\n",
       "    </tr>\n",
       "    <tr>\n",
       "      <th>2</th>\n",
       "      <td>3</td>\n",
       "      <td>107</td>\n",
       "      <td>Electronics</td>\n",
       "      <td>864</td>\n",
       "      <td>2024-01-03</td>\n",
       "    </tr>\n",
       "    <tr>\n",
       "      <th>3</th>\n",
       "      <td>4</td>\n",
       "      <td>104</td>\n",
       "      <td>Food</td>\n",
       "      <td>745</td>\n",
       "      <td>2024-01-04</td>\n",
       "    </tr>\n",
       "    <tr>\n",
       "      <th>4</th>\n",
       "      <td>5</td>\n",
       "      <td>106</td>\n",
       "      <td>Beauty</td>\n",
       "      <td>234</td>\n",
       "      <td>2024-01-05</td>\n",
       "    </tr>\n",
       "  </tbody>\n",
       "</table>\n",
       "</div>"
      ],
      "text/plain": [
       "   sale_id  customer_id     category  amount  sale_date\n",
       "0        1          106         Home     229 2024-01-01\n",
       "1        2          103      Clothes     575 2024-01-02\n",
       "2        3          107  Electronics     864 2024-01-03\n",
       "3        4          104         Food     745 2024-01-04\n",
       "4        5          106       Beauty     234 2024-01-05"
      ]
     },
     "execution_count": 17,
     "metadata": {},
     "output_type": "execute_result"
    }
   ],
   "source": [
    "# Generar 100 filas de datos\n",
    "np.random.seed(42)  # Fijar semilla para reproducibilidad\n",
    "\n",
    "num_rows = 100\n",
    "\n",
    "data = {\n",
    "    \"sale_id\": np.arange(1, num_rows + 1),  # IDs de 1 a 100\n",
    "    \"customer_id\": np.random.randint(100, 110, size=num_rows),  # 10 clientes (100-109)\n",
    "    \"category\": np.random.choice([\"Electronics\", \"Clothes\", \"Books\", \"Home\", \"Beauty\", \"Food\"], size=num_rows),\n",
    "    \"amount\": np.random.randint(10, 1000, size=num_rows),  # Montos entre 10 y 1000\n",
    "    \"sale_date\": pd.date_range(start=\"2024-01-01\", periods=num_rows, freq=\"D\")  # Fechas consecutivas\n",
    "}\n",
    "\n",
    "test_data = pd.DataFrame(data)\n",
    "\n",
    "# Mostrar primeras filas\n",
    "test_data.head()"
   ]
  },
  {
   "cell_type": "code",
   "execution_count": 18,
   "metadata": {},
   "outputs": [
    {
     "name": "stdout",
     "output_type": "stream",
     "text": [
      "Tabla 'datos_transaccionales' creada exitosamente en PostgreSQL.\n"
     ]
    }
   ],
   "source": [
    "create_table_from_df(test_data,'datos_transaccionales',credenciales)"
   ]
  },
  {
   "cell_type": "code",
   "execution_count": 19,
   "metadata": {},
   "outputs": [
    {
     "data": {
      "text/html": [
       "<div>\n",
       "<style scoped>\n",
       "    .dataframe tbody tr th:only-of-type {\n",
       "        vertical-align: middle;\n",
       "    }\n",
       "\n",
       "    .dataframe tbody tr th {\n",
       "        vertical-align: top;\n",
       "    }\n",
       "\n",
       "    .dataframe thead th {\n",
       "        text-align: right;\n",
       "    }\n",
       "</style>\n",
       "<table border=\"1\" class=\"dataframe\">\n",
       "  <thead>\n",
       "    <tr style=\"text-align: right;\">\n",
       "      <th></th>\n",
       "      <th>sale_id</th>\n",
       "      <th>customer_id</th>\n",
       "      <th>category</th>\n",
       "      <th>amount</th>\n",
       "      <th>sale_date</th>\n",
       "    </tr>\n",
       "  </thead>\n",
       "  <tbody>\n",
       "    <tr>\n",
       "      <th>0</th>\n",
       "      <td>1</td>\n",
       "      <td>106</td>\n",
       "      <td>Home</td>\n",
       "      <td>229</td>\n",
       "      <td>2024-01-01 00:00:00</td>\n",
       "    </tr>\n",
       "  </tbody>\n",
       "</table>\n",
       "</div>"
      ],
      "text/plain": [
       "   sale_id  customer_id category  amount            sale_date\n",
       "0        1          106     Home     229  2024-01-01 00:00:00"
      ]
     },
     "execution_count": 19,
     "metadata": {},
     "output_type": "execute_result"
    }
   ],
   "source": [
    "execute_query('SELECT * FROM datos_transaccionales limit 1;', credenciales)"
   ]
  },
  {
   "cell_type": "markdown",
   "metadata": {},
   "source": [
    "# Ejercicios"
   ]
  },
  {
   "cell_type": "markdown",
   "metadata": {},
   "source": [
    "1. Numerar las ventas de cada cliente.\n",
    "\n",
    "📌 Enunciado:\n",
    "Queremos asignar un número de fila a cada venta de un cliente en orden cronológico. Usa ROW_NUMBER() para numerar cada venta de un cliente, ordenándolas por fecha de venta."
   ]
  },
  {
   "cell_type": "markdown",
   "metadata": {},
   "source": [
    "2. Calcular el ranking de ventas por categoría.\n",
    "\n",
    "📌 Enunciado:\n",
    "Determina el ranking de ventas dentro de cada categoría, ordenando por monto de venta en orden descendente. Usa RANK() para asignar el puesto de cada venta dentro de su categoría."
   ]
  },
  {
   "cell_type": "markdown",
   "metadata": {},
   "source": [
    "3.  Comparar el monto de cada venta con la anterior.\n",
    "\n",
    "📌 Enunciado:\n",
    "Para cada venta, queremos ver cuánto vendió un cliente en su venta anterior. Usa LAG() para obtener el monto de la venta anterior de cada cliente."
   ]
  },
  {
   "cell_type": "markdown",
   "metadata": {},
   "source": [
    "4. Calcular la suma acumulada de ventas por cliente\n",
    "\n",
    "📌 Enunciado:\n",
    "Queremos calcular la suma acumulada del monto de ventas por cliente en orden cronológico. Usa SUM() con OVER() para obtener el total acumulado de cada cliente."
   ]
  },
  {
   "cell_type": "markdown",
   "metadata": {},
   "source": [
    "5. Obtener el promedio móvil de ventas por categoría\n",
    "\n",
    "📌 Enunciado:\n",
    "Calcula el promedio móvil de las últimas 3 ventas dentro de cada categoría. Usa AVG() con ROWS BETWEEN 2 PRECEDING AND CURRENT ROW para calcularlo."
   ]
  },
  {
   "cell_type": "markdown",
   "metadata": {},
   "source": [
    "# Respuestas"
   ]
  },
  {
   "cell_type": "markdown",
   "metadata": {},
   "source": [
    "1. \n",
    "\n",
    "```sql\n",
    "\n",
    "SELECT \n",
    "    customer_id, \n",
    "    sale_id, \n",
    "    amount, \n",
    "    sale_date,\n",
    "    ROW_NUMBER() OVER (PARTITION BY customer_id ORDER BY sale_date) AS sale_number\n",
    "FROM sales;\n",
    "\n",
    "```"
   ]
  },
  {
   "cell_type": "markdown",
   "metadata": {},
   "source": [
    "2. \n",
    "\n",
    "```sql\n",
    "\n",
    "SELECT \n",
    "    category, \n",
    "    sale_id, \n",
    "    amount, \n",
    "    RANK() OVER (PARTITION BY category ORDER BY amount DESC) AS sale_rank\n",
    "FROM sales;\n",
    "\n",
    "```"
   ]
  },
  {
   "cell_type": "markdown",
   "metadata": {},
   "source": [
    "3. \n",
    "\n",
    "```sql\n",
    "\n",
    "SELECT \n",
    "    customer_id, \n",
    "    sale_id, \n",
    "    amount, \n",
    "    sale_date,\n",
    "    LAG(amount) OVER (PARTITION BY customer_id ORDER BY sale_date) AS previous_sale\n",
    "FROM sales;\n",
    "\n",
    "\n",
    "```"
   ]
  },
  {
   "cell_type": "markdown",
   "metadata": {},
   "source": [
    "4. \n",
    "\n",
    "```sql\n",
    "\n",
    "SELECT \n",
    "    customer_id, \n",
    "    sale_id, \n",
    "    amount, \n",
    "    sale_date,\n",
    "    SUM(amount) OVER (PARTITION BY customer_id ORDER BY sale_date) AS cumulative_sales\n",
    "FROM sales;\n",
    "\n",
    "```"
   ]
  },
  {
   "cell_type": "markdown",
   "metadata": {},
   "source": [
    "5. \n",
    "\n",
    "```sql\n",
    "\n",
    "SELECT \n",
    "    category, \n",
    "    sale_id, \n",
    "    amount, \n",
    "    sale_date,\n",
    "    AVG(amount) OVER (PARTITION BY category ORDER BY sale_date ROWS BETWEEN 2 PRECEDING AND CURRENT ROW) AS moving_avg\n",
    "FROM sales;\n",
    "\n",
    "\n",
    "```"
   ]
  }
 ],
 "metadata": {
  "kernelspec": {
   "display_name": "sprint-8-sql",
   "language": "python",
   "name": "python3"
  },
  "language_info": {
   "codemirror_mode": {
    "name": "ipython",
    "version": 3
   },
   "file_extension": ".py",
   "mimetype": "text/x-python",
   "name": "python",
   "nbconvert_exporter": "python",
   "pygments_lexer": "ipython3",
   "version": "3.10.4"
  }
 },
 "nbformat": 4,
 "nbformat_minor": 2
}
